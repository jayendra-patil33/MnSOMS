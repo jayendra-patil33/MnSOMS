{
 "cells": [
  {
   "cell_type": "code",
   "execution_count": 2,
   "metadata": {},
   "outputs": [
    {
     "name": "stdout",
     "output_type": "stream",
     "text": [
      "1 2.797533771824076\n",
      "2 2.897586897551535\n",
      "3 3.1660405707062003\n",
      "4 3.5597528132669414\n",
      "5 4.069834451909819\n",
      "Intergration of f(x):math.sin(x)-math.log(x)+math.exp(x) trapezoidal rule is 4.071518447211839\n",
      "Intergration of f(x):math.sin(x)-math.log(x)+math.exp(x) simpson1_3 rule is 4.0521334707332395\n",
      "Intergration of f(x):math.sin(x)-math.log(x)+math.exp(x) simpson3_8 rule is 4.0529919305003075\n",
      "Intergration of f(x):math.sin(x)-math.log(x)+math.exp(x) weddle rule is 4.0509518218445155\n"
     ]
    }
   ],
   "source": [
    "import math\n",
    "import numpy as np\n",
    "\n",
    "def function(x):\n",
    "    return(math.sin(x)-math.log(x)+math.exp(x))\n",
    "\n",
    "\n",
    "def trapezoidal(x_o,x_n,n):\n",
    "    h = (x_n-x_o)/n\n",
    "    #print(h)\n",
    "    sum = function(x_o)/2\n",
    "    for i in range(1,n):\n",
    "        y =function(x_o+i*h)\n",
    "        sum = sum + y\n",
    "        print(i,y)\n",
    "    sum = sum + function(x_o + n*h)/2\n",
    "    return(h*sum)\n",
    "\n",
    "def simpson1_3(x_o,x_n,n):\n",
    "    if (n%2!=0):\n",
    "        raise Exception(\"Sorry, n is not even\")\n",
    "\n",
    "    h = (x_n-x_o)/n\n",
    "\n",
    "    sum = function(x_o)\n",
    "    for i in range(1,n):\n",
    "        func_eval =function(x_o+i*h)\n",
    "        if(i%2==0):\n",
    "            sum = sum +2*func_eval\n",
    "        else:\n",
    "            sum =sum+ 4*func_eval\n",
    "    sum = sum + function(x_o + n*h)\n",
    "    return(h*sum/3)\n",
    "\n",
    "def simpson3_8(x_o,x_n,n):\n",
    "    if(n%3!=0):\n",
    "        raise Exception(\"Sorry, n is not a multiple of 3\")\n",
    "    \n",
    "    h = (x_n-x_o)/n\n",
    "    sum = 0\n",
    "    for i in range(int(n/3)):\n",
    "        sum = sum + 3/8*h*(function(x_o+3*i*h)+3*(function(x_o+h*(3*i+1))+function(x_o+h*(3*i+2)))+function(x_o+h*(3*i+3)))\n",
    "          \n",
    "    return(sum)\n",
    "\n",
    "def weddle(x_o,x_n,n):\n",
    "    \n",
    "    if (n%6!=0):\n",
    "        raise Exception(\"Sorry, n is not multiple of 6\")\n",
    "    \n",
    "    coeff = [1,5,1,6,1,5,1]\n",
    "    \n",
    "    \n",
    "    matrix = []\n",
    "    h = (x_n-x_o)/n\n",
    "    coeff1 = []\n",
    "    coeff1 = coeff*int(n/6)\n",
    "    for i in range(n+1):\n",
    "        func_eval = function(x_o+i*h)\n",
    "        matrix.append(func_eval)\n",
    "        if(i!=0 and i!=n and i%6==0):\n",
    "             matrix.append(func_eval)\n",
    "    coeff1 = np.array(coeff1)\n",
    "    matrix = np.array(matrix)\n",
    "    return(3*h*np.dot(matrix,coeff1)/10)  \n",
    "\n",
    "print(f\"Intergration of f(x):math.sin(x)-math.log(x)+math.exp(x) trapezoidal rule is {trapezoidal(0.2,1.4,6)}\")\n",
    "print(f\"Intergration of f(x):math.sin(x)-math.log(x)+math.exp(x) simpson1_3 rule is {simpson1_3(0.2,1.4,6)}\")\n",
    "print(f\"Intergration of f(x):math.sin(x)-math.log(x)+math.exp(x) simpson3_8 rule is {simpson3_8(0.2,1.4,6)}\")\n",
    "print(f\"Intergration of f(x):math.sin(x)-math.log(x)+math.exp(x) weddle rule is {weddle(0.2,1.4,18)}\")\n"
   ]
  },
  {
   "cell_type": "code",
   "execution_count": null,
   "metadata": {},
   "outputs": [],
   "source": []
  }
 ],
 "metadata": {
  "kernelspec": {
   "display_name": "Python 3",
   "language": "python",
   "name": "python3"
  },
  "language_info": {
   "codemirror_mode": {
    "name": "ipython",
    "version": 3
   },
   "file_extension": ".py",
   "mimetype": "text/x-python",
   "name": "python",
   "nbconvert_exporter": "python",
   "pygments_lexer": "ipython3",
   "version": "3.7.6"
  }
 },
 "nbformat": 4,
 "nbformat_minor": 4
}
