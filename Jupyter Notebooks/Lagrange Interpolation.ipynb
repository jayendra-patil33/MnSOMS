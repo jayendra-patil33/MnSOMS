{
 "cells": [
  {
   "cell_type": "code",
   "execution_count": 1,
   "metadata": {},
   "outputs": [
    {
     "name": "stdout",
     "output_type": "stream",
     "text": [
      "The value of function at 9 is 810.0\n"
     ]
    }
   ],
   "source": [
    "def lagrange(x,y,n,k):\n",
    "    sum = 0.0\n",
    "    for i in range(n):\n",
    "        product = y[i]\n",
    "        for j in range(n):\n",
    "            if(i!=j):\n",
    "                product *= (k-x[j])/(x[i]-x[j])\n",
    "        # print(product)\n",
    "        sum = sum + product\n",
    "    return(sum)\n",
    "\n",
    "x = [5,7,11,13,17]\n",
    "y = [150,392,1452,2366,5202]\n",
    "k = 9\n",
    "\n",
    "print(f'The value of function at {k} is {lagrange(x,y,5,k)}')"
   ]
  },
  {
   "cell_type": "code",
   "execution_count": null,
   "metadata": {},
   "outputs": [],
   "source": []
  }
 ],
 "metadata": {
  "kernelspec": {
   "display_name": "Python 3",
   "language": "python",
   "name": "python3"
  },
  "language_info": {
   "codemirror_mode": {
    "name": "ipython",
    "version": 3
   },
   "file_extension": ".py",
   "mimetype": "text/x-python",
   "name": "python",
   "nbconvert_exporter": "python",
   "pygments_lexer": "ipython3",
   "version": "3.7.6"
  }
 },
 "nbformat": 4,
 "nbformat_minor": 4
}
