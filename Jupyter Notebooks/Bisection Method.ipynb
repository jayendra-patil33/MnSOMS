{
 "cells": [
  {
   "cell_type": "markdown",
   "metadata": {},
   "source": [
    "# Bisection Method"
   ]
  },
  {
   "cell_type": "markdown",
   "metadata": {},
   "source": [
    "DEFINATION OF FUNCTION:"
   ]
  },
  {
   "cell_type": "code",
   "execution_count": 1,
   "metadata": {},
   "outputs": [],
   "source": [
    "import math\n",
    "import columnar\n",
    "\n",
    "def function(x):\n",
    "    return(x**3-0.165*x**2+3.993e-4)\n",
    "  "
   ]
  },
  {
   "cell_type": "code",
   "execution_count": 2,
   "metadata": {},
   "outputs": [
    {
     "name": "stdout",
     "output_type": "stream",
     "text": [
      "Enter the lower guess 0\n",
      "Enter the upper guess 2\n",
      "Try guessing again !\n",
      "Enter the lower guess 0\n",
      "Enter the upper guess 1\n",
      "Try guessing again !\n",
      "Enter the lower guess 1\n",
      "Enter the upper guess 2\n",
      "Try guessing again !\n",
      "Enter the lower guess 0\n",
      "Enter the upper guess 10\n",
      "Try guessing again !\n",
      "Enter the lower guess -1\n",
      "Enter the upper guess 5\n"
     ]
    }
   ],
   "source": [
    "while(True):\n",
    "    lower_guess = float(input(\"Enter the lower guess \"))\n",
    "    upper_guess = float(input(\"Enter the upper guess \"))\n",
    "    if((function(lower_guess)*function(upper_guess))<0):\n",
    "        break\n",
    "    print(\"Try guessing again !\")\n",
    "        \n",
    "        \n"
   ]
  },
  {
   "cell_type": "markdown",
   "metadata": {},
   "source": [
    "EXPECTED ERROR:"
   ]
  },
  {
   "cell_type": "code",
   "execution_count": 3,
   "metadata": {},
   "outputs": [
    {
     "name": "stdout",
     "output_type": "stream",
     "text": [
      "Enter the error expected 0.01\n"
     ]
    }
   ],
   "source": [
    "Ed = float(input(\"Enter the error expected \"))\n",
    "number_of_iterations  = math.log((upper_guess-lower_guess)/Ed,2)\n",
    "number_of_iterations  = int(math.ceil(number_of_iterations)) "
   ]
  },
  {
   "cell_type": "code",
   "execution_count": 4,
   "metadata": {},
   "outputs": [
    {
     "ename": "ValueError",
     "evalue": "math domain error",
     "output_type": "error",
     "traceback": [
      "\u001b[1;31m---------------------------------------------------------------------------\u001b[0m",
      "\u001b[1;31mValueError\u001b[0m                                Traceback (most recent call last)",
      "\u001b[1;32m<ipython-input-4-7ea6b8f46d17>\u001b[0m in \u001b[0;36m<module>\u001b[1;34m\u001b[0m\n\u001b[0;32m      6\u001b[0m     \u001b[0merror_approx\u001b[0m \u001b[1;33m=\u001b[0m \u001b[0mabs\u001b[0m\u001b[1;33m(\u001b[0m\u001b[1;33m(\u001b[0m\u001b[0mxr\u001b[0m \u001b[1;33m-\u001b[0m \u001b[0mx_old\u001b[0m\u001b[1;33m)\u001b[0m\u001b[1;33m)\u001b[0m\u001b[1;33m/\u001b[0m\u001b[0mxr\u001b[0m\u001b[1;33m*\u001b[0m\u001b[1;36m100\u001b[0m\u001b[1;33m\u001b[0m\u001b[1;33m\u001b[0m\u001b[0m\n\u001b[0;32m      7\u001b[0m     \u001b[1;32mif\u001b[0m\u001b[1;33m(\u001b[0m\u001b[0merror_approx\u001b[0m\u001b[1;33m!=\u001b[0m\u001b[1;36m0.0\u001b[0m \u001b[1;32mand\u001b[0m \u001b[0merror_approx\u001b[0m\u001b[1;33m<=\u001b[0m\u001b[1;36m5\u001b[0m\u001b[1;33m)\u001b[0m\u001b[1;33m:\u001b[0m\u001b[1;33m\u001b[0m\u001b[1;33m\u001b[0m\u001b[0m\n\u001b[1;32m----> 8\u001b[1;33m         \u001b[0msignificant_digits\u001b[0m \u001b[1;33m=\u001b[0m \u001b[0mmath\u001b[0m\u001b[1;33m.\u001b[0m\u001b[0mfloor\u001b[0m\u001b[1;33m(\u001b[0m\u001b[1;36m2\u001b[0m\u001b[1;33m-\u001b[0m\u001b[0mmath\u001b[0m\u001b[1;33m.\u001b[0m\u001b[0mlog10\u001b[0m\u001b[1;33m(\u001b[0m\u001b[0merror_approx\u001b[0m\u001b[1;33m/\u001b[0m\u001b[1;36m0.5\u001b[0m\u001b[1;33m)\u001b[0m\u001b[1;33m)\u001b[0m\u001b[1;33m\u001b[0m\u001b[1;33m\u001b[0m\u001b[0m\n\u001b[0m\u001b[0;32m      9\u001b[0m \u001b[1;33m\u001b[0m\u001b[0m\n\u001b[0;32m     10\u001b[0m     \u001b[1;32melse\u001b[0m\u001b[1;33m:\u001b[0m\u001b[1;33m\u001b[0m\u001b[1;33m\u001b[0m\u001b[0m\n",
      "\u001b[1;31mValueError\u001b[0m: math domain error"
     ]
    }
   ],
   "source": [
    "\n",
    "x_old = (upper_guess+lower_guess)/2\n",
    "headers = ['iteration','x_lower','x_upper','x_root','approximate error', 'function(xr)','significant\\n digits']\n",
    "data = []\n",
    "for i in range(number_of_iterations):\n",
    "    xr = (upper_guess+lower_guess)/2\n",
    "    error_approx = abs((xr - x_old))/xr*100\n",
    "    if(error_approx!=0.0 and error_approx<=5):\n",
    "        significant_digits = math.floor(2-math.log10(error_approx/0.5))\n",
    "        \n",
    "    else:\n",
    "        significant_digits = 0\n",
    "    data.append([i,lower_guess,upper_guess,xr,error_approx,function(xr),significant_digits])\n",
    "    if(function(lower_guess)*function(xr)<0):\n",
    "        upper_guess=xr\n",
    "    elif(function(lower_guess)*function(xr)>0):\n",
    "        lower_guess=xr\n",
    "    else:\n",
    "        print(f\"The root is {xr}\")\n",
    "        break\n",
    "    x_old = xr\n",
    "table = columnar.columnar(data,headers)#, max_column_width=None)\n",
    "print(table)\n",
    "print(f\"The root is {xr}\")"
   ]
  },
  {
   "cell_type": "markdown",
   "metadata": {},
   "source": [
    "# Secant Method"
   ]
  },
  {
   "cell_type": "code",
   "execution_count": null,
   "metadata": {},
   "outputs": [],
   "source": [
    "# h=0.01\n",
    "# x = float(input(\"Enter initial guess \"))\n",
    "# i = 0\n",
    "# headers_2 =['Iteration','x[i]','error']\n",
    "# data_2 = []\n",
    "# data_2.append([i,x,0])\n",
    "# while True:\n",
    "#     f_dash = (function(x+h)-function(x))/h\n",
    "#     x_new = x - function(x)/f_dash\n",
    "#     error = abs((x_new-x))/x_new*100\n",
    "#     i+=1\n",
    "#     data_2.append([i,x_new,error])\n",
    "#     if (error<0.01):\n",
    "#         break\n",
    "#     x = x_new\n",
    "# table_2 = columnar.columnar(data_2,headers_2, no_borders=True, max_column_width=None)\n",
    "# print(table_2)\n",
    "# print(f\"The root is {x_new}\")"
   ]
  },
  {
   "cell_type": "code",
   "execution_count": null,
   "metadata": {},
   "outputs": [],
   "source": []
  },
  {
   "cell_type": "code",
   "execution_count": null,
   "metadata": {},
   "outputs": [],
   "source": []
  },
  {
   "cell_type": "code",
   "execution_count": null,
   "metadata": {},
   "outputs": [],
   "source": []
  },
  {
   "cell_type": "code",
   "execution_count": null,
   "metadata": {},
   "outputs": [],
   "source": []
  }
 ],
 "metadata": {
  "kernelspec": {
   "display_name": "Python 3",
   "language": "python",
   "name": "python3"
  },
  "language_info": {
   "codemirror_mode": {
    "name": "ipython",
    "version": 3
   },
   "file_extension": ".py",
   "mimetype": "text/x-python",
   "name": "python",
   "nbconvert_exporter": "python",
   "pygments_lexer": "ipython3",
   "version": "3.7.6"
  }
 },
 "nbformat": 4,
 "nbformat_minor": 4
}
