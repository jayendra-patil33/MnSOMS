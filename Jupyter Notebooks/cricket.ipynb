{
 "cells": [
  {
   "cell_type": "code",
   "execution_count": 11,
   "metadata": {},
   "outputs": [
    {
     "data": {
      "text/html": [
       "<div id=\"glowscript\" class=\"glowscript\"></div>"
      ],
      "text/plain": [
       "<IPython.core.display.HTML object>"
      ]
     },
     "metadata": {},
     "output_type": "display_data"
    },
    {
     "data": {
      "application/javascript": [
       "if (typeof Jupyter !== \"undefined\") { window.__context = { glowscript_container: $(\"#glowscript\").removeAttr(\"id\")};}else{ element.textContent = ' ';}"
      ],
      "text/plain": [
       "<IPython.core.display.Javascript object>"
      ]
     },
     "metadata": {},
     "output_type": "display_data"
    },
    {
     "name": "stdout",
     "output_type": "stream",
     "text": [
      "<10.06, 1.34435, 0>\n",
      "<0, -1.34435, 0>\n"
     ]
    }
   ],
   "source": [
    "    from vpython import *\n",
    "\n",
    "\n",
    "    scene = canvas(fast=False)\n",
    "\n",
    "    # scene.camera.pos = vector(1.77313, 11.7566, 13.5626)\n",
    "    # scene.camera.axis = vector(-1.77313, -11.7566, -13.5626)\n",
    "    scene.camera.pos = vector(10.06,7, 0)\n",
    "    scene.camera.axis = vector(0, -7, 0)\n",
    "    ground = cylinder (pos=vector(0,-0.2,0),axis=vector(0,0.199,0),radius=50,color=color.green)\n",
    "    pitch=box(pos=vector(0,-0.2,0),size=vector(22,.4,3.66),color=vector(0.850, 0.689, 0.525))\n",
    "             # texture={'file':'/nbextensions/vpython_data/stucco_texture.jpg', 'place':'all'})#,color = vector(0.473, 0.261, 0.000)\n",
    "    stump = cylinder(pos=vector(10.06,0,0), axis=vector(0,0.75,0), radius=0.022)\n",
    "    stump2 = cylinder(pos=vector(10.06,0,-0.11), axis=vector(0,0.75,0), radius=0.022)\n",
    "    stump3 = cylinder(pos=vector(10.06,0,0.11), axis=vector(0,0.75,0), radius=0.022)\n",
    "    stump4 = cylinder(pos=vector(-10.06,0,0), axis=vector(0,0.75,0), radius=0.022)\n",
    "    stump5 = cylinder(pos=vector(-10.06,0,-0.11), axis=vector(0,0.75,0), radius=0.022)\n",
    "    stump6= cylinder(pos=vector(-10.06,0,0.11), axis=vector(0,0.75,0), radius=0.022)\n",
    "    ball=sphere(pos=vector(-10.06,2.2,-0.3),radius=.032, color=color.red, make_trail=True, opacity=0.1)\n",
    "    r0=ball.pos\n",
    "    g=vector(0,-9.8,0)\n",
    "    ball.m=0.2\n",
    "    v0=31\n",
    "    theta=-1*pi/180\n",
    "    ball.p=ball.m*v0*vector(cos(theta),sin(theta),0)\n",
    "    rho = 1.225\n",
    "    R = 0.065\n",
    "    C = 0.3\n",
    "    A = pi*R**2\n",
    "    rt = shapes.rectangle(width=4, height=0.05)\n",
    "    extrusion(path=[vec(8.84,0,0), vec(8.84,0.001,0)],\n",
    "              shape=rt)\n",
    "    extrusion(path=[vec(-8.84,0,0), vec(-8.84,0.001,0)],\n",
    "              shape=rt)\n",
    "    rt2 = shapes.rectangle(width=2.64, height=0.05)\n",
    "    extrusion(path=[vec(10.06,0,0), vec(10.06,0.001,0)],\n",
    "              shape=rt2)\n",
    "    extrusion(path=[vec(-10.06,0,0), vec(-10.06,0.001,0)],\n",
    "              shape=rt2)\n",
    "    rt3 = shapes.rectangle(width=0.05, height=2.32)\n",
    "    vertical = 1.16+8.84\n",
    "    extrusion(path=[vec(vertical,0,1.32), vec(vertical,0.001,1.32)],\n",
    "              shape=rt3)\n",
    "    extrusion(path=[vec(vertical,0,-1.32), vec(vertical,0.001,-1.32)],\n",
    "              shape=rt3)\n",
    "    extrusion(path=[vec(-vertical,0,1.32), vec(-vertical,0.001,1.32)],\n",
    "              shape=rt3)\n",
    "    extrusion(path=[vec(-vertical,0,-1.32), vec(-vertical,0.001,-1.32)],\n",
    "              shape=rt3)\n",
    "    rt4 = shapes.rectangle(width=.264, height=20.12)\n",
    "    extrusion(path=[vec(0,0,0), vec(0,0.005,0)],\n",
    "              shape=rt4,color = color.green, opacity=0.2)\n",
    "    t=0\n",
    "    dt=0.001\n",
    "    labl = label(pos=vector(-11,12,15),text=\"wickets\")\n",
    "    labl2 = label(pos=vector(-11,7,15),text=\"Pitching\")\n",
    "\n",
    "\n",
    "    while ball.pos.y>=0.032:\n",
    "        rate(100)\n",
    "        ball.v = ball.p/ball.m\n",
    "        Fnet=ball.m*g-0.5*rho*A*C*mag(ball.v)**2*norm(ball.v)\n",
    "        ball.p=ball.p+Fnet*dt\n",
    "    #     curve.plot(pos=(t, ball.pos.x))\n",
    "        ball.pos=ball.pos+ball.p*dt/ball.m\n",
    "        t=t+dt\n",
    "\n",
    "    ball.p.y *= -1\n",
    "    if(-0.132<=ball.pos.z<0.132):\n",
    "        labl2.text = \"Pitching\\n\"+\"Inline\"\n",
    "    elif(-0.132>ball.pos.z):   \n",
    "        labl2.text = \"Pitching\\n\"+\"Outside off\"\n",
    "    else:\n",
    "        labl2.text = \"Pitching\\n\"+\"Outside leg\"\n",
    "    # print(ball.p)\n",
    "    while ball.pos.x<=10.016:\n",
    "        rate(100)\n",
    "        ball.v = ball.p/ball.m\n",
    "        Fnet=ball.m*g-0.5*rho*A*C*mag(ball.v)**2*norm(ball.v)\n",
    "        ball.p=ball.p+Fnet*dt\n",
    "        ball.pos=ball.pos+ball.p*dt/ball.m\n",
    "    #     curve.plot(pos=(t, ball.pos.x))\n",
    "        t=t+dt\n",
    "    # print(ball.v.y)\n",
    "    # print(\"dr final = \",ball.pos-r0,\" m\")\n",
    "    # print(\"t final = \",t,\" s\")\n",
    "    labl.text = \"wickets\\n Not hitting\"\n",
    "    print(scene.camera.pos)\n",
    "    print(scene.camera.axis)"
   ]
  },
  {
   "cell_type": "code",
   "execution_count": null,
   "metadata": {},
   "outputs": [],
   "source": []
  }
 ],
 "metadata": {
  "kernelspec": {
   "display_name": "Python 3",
   "language": "python",
   "name": "python3"
  },
  "language_info": {
   "codemirror_mode": {
    "name": "ipython",
    "version": 3
   },
   "file_extension": ".py",
   "mimetype": "text/x-python",
   "name": "python",
   "nbconvert_exporter": "python",
   "pygments_lexer": "ipython3",
   "version": "3.7.6"
  }
 },
 "nbformat": 4,
 "nbformat_minor": 4
}
