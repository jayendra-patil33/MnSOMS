{
 "cells": [
  {
   "cell_type": "code",
   "execution_count": 28,
   "metadata": {},
   "outputs": [],
   "source": [
    "import math\n",
    "import columnar\n",
    "import numpy as np"
   ]
  },
  {
   "cell_type": "code",
   "execution_count": 35,
   "metadata": {},
   "outputs": [],
   "source": [
    "def dy_dx(x,y):\n",
    "#     return((x-y)/(x+y))\n",
    "    return(1+x*y)\n"
   ]
  },
  {
   "cell_type": "code",
   "execution_count": 36,
   "metadata": {},
   "outputs": [],
   "source": [
    "def eulers_method(xi,xf,yi,dx):\n",
    "    x = xi\n",
    "    y = yi\n",
    "    n = int((xf-xi)/dx)\n",
    "    print(x,y)\n",
    "    for i in range(n):\n",
    "        dydx = dy_dx(x,y)\n",
    "        y = y + dydx*dx\n",
    "        x = x + dx\n",
    "        print(x,y)"
   ]
  },
  {
   "cell_type": "code",
   "execution_count": 37,
   "metadata": {},
   "outputs": [],
   "source": [
    "def rk_2(xi,xf,yi,dx):\n",
    "    x = xi\n",
    "    y = yi\n",
    "    n = int((xf-xi)/dx)\n",
    "    print(x,y)\n",
    "    for i in range(n):\n",
    "        k1 = dy_dx(x,y) \n",
    "        k2 = dy_dx(x+dx,y+k1*dx)\n",
    "        y = y + (k1+k2)*dx/2\n",
    "        x = x + dx\n",
    "        print(x,y)"
   ]
  },
  {
   "cell_type": "code",
   "execution_count": 38,
   "metadata": {},
   "outputs": [],
   "source": [
    "def rk_4(xi,xf,yi,dx):\n",
    "    x = xi\n",
    "    y = yi\n",
    "    n = int((xf-xi)/dx)\n",
    "    print(x,y)\n",
    "    for i in range(n):\n",
    "        k1 = dy_dx(x,y) \n",
    "        k2 = dy_dx(x+dx/2,y+k1*dx/2)\n",
    "        k3 = dy_dx(x+dx/2,y+k2*dx/2)\n",
    "        k4 = dy_dx(x+dx,y+k3*dx)\n",
    "        y = y + (k1+2*k2+2*k3+k4)*dx/6\n",
    "        x = x + dx\n",
    "        print(x,y)"
   ]
  },
  {
   "cell_type": "code",
   "execution_count": 42,
   "metadata": {},
   "outputs": [
    {
     "name": "stdout",
     "output_type": "stream",
     "text": [
      "euler's method\n",
      "0 1\n",
      "0.1 1.1\n",
      "0.2 1.211\n",
      "0.30000000000000004 1.33522\n",
      "0.4 1.4752766000000002\n",
      "huen's method\n",
      "0 1\n",
      "0.1 1.1055\n",
      "0.2 1.22319305\n",
      "0.30000000000000004 1.3556398341649998\n",
      "0.4 1.5059006122612737\n",
      "4th order rk method\n",
      "0 1\n",
      "0.02 1.0202026868680134\n",
      "0.04 1.0408216602202567\n",
      "0.06 1.0618736727991522\n",
      "0.08 1.0833760107323471\n",
      "0.1 1.105346521746379\n"
     ]
    }
   ],
   "source": [
    "print(\"euler's method\")\n",
    "eulers_method(0,0.4,1,0.1)\n",
    "print(\"huen's method\")\n",
    "rk_2(0,0.4,1,0.1)\n",
    "print(\"4th order rk method\")\n",
    "rk_4(0,0.1,1,0.02)"
   ]
  },
  {
   "cell_type": "raw",
   "metadata": {},
   "source": []
  },
  {
   "cell_type": "code",
   "execution_count": null,
   "metadata": {},
   "outputs": [],
   "source": []
  }
 ],
 "metadata": {
  "kernelspec": {
   "display_name": "Python 3",
   "language": "python",
   "name": "python3"
  },
  "language_info": {
   "codemirror_mode": {
    "name": "ipython",
    "version": 3
   },
   "file_extension": ".py",
   "mimetype": "text/x-python",
   "name": "python",
   "nbconvert_exporter": "python",
   "pygments_lexer": "ipython3",
   "version": "3.7.6"
  }
 },
 "nbformat": 4,
 "nbformat_minor": 4
}
